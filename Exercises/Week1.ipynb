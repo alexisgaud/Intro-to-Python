{
 "cells": [
  {
   "cell_type": "markdown",
   "id": "7a3b92f1",
   "metadata": {},
   "source": [
    "# Week 1: Basics"
   ]
  },
  {
   "cell_type": "markdown",
   "id": "654a7645",
   "metadata": {},
   "source": [
    "#### Exercise 1: Write a code that prints out Hello World"
   ]
  },
  {
   "cell_type": "code",
   "execution_count": 1,
   "id": "449c293a",
   "metadata": {},
   "outputs": [
    {
     "name": "stdout",
     "output_type": "stream",
     "text": [
      "Hello World\n"
     ]
    }
   ],
   "source": [
    "print(\"Hello World\")"
   ]
  },
  {
   "cell_type": "markdown",
   "id": "55beef12",
   "metadata": {},
   "source": [
    "#### Exercise 2: Write a code that the sum of two numbers *a* and *b*"
   ]
  },
  {
   "cell_type": "code",
   "execution_count": null,
   "id": "c2ced4ca",
   "metadata": {},
<<<<<<< HEAD
   "outputs": [
    {
     "name": "stdout",
     "output_type": "stream",
     "text": [
      "4\n"
     ]
    }
   ],
   "source": [
    "a = 1\n",
    "b = 3\n",
    "print(a+b)"
   ]
=======
   "outputs": [],
   "source": []
>>>>>>> 0f437b4 (Complited Week1 exercises)
  },
  {
   "cell_type": "markdown",
   "id": "3d322732",
   "metadata": {},
   "source": [
    "#### Exercise 3: Write a code that outputs your name and age"
   ]
  },
  {
   "cell_type": "code",
   "execution_count": 4,
   "id": "8a9979e0",
   "metadata": {},
   "outputs": [
    {
     "name": "stdout",
     "output_type": "stream",
     "text": [
      "My name is Jade and I am 21 years old.\n",
      "My name is Jade and I am 21 years old.\n"
     ]
    }
   ],
   "source": [
    "name = \"Jade\"\n",
    "age = 21\n",
    "\n",
    "# Option 1:\n",
    "print(\"My name is\", name, \"and I am\", age, \"years old.\")\n",
    "\n",
    "# Option 2:\n",
    "print(f\"My name is {name} and I am {age} years old.\")"
   ]
  },
  {
   "cell_type": "markdown",
   "id": "df15b24b",
   "metadata": {},
   "source": [
    "## Extra Exercises"
   ]
  },
  {
   "cell_type": "markdown",
   "id": "f445c236",
   "metadata": {},
   "source": [
    "#### Extra Exercise 1: Write code that prints out a fictional name, address, age, and occupation of a character of your choice (use variables!)"
   ]
  },
  {
   "cell_type": "code",
<<<<<<< HEAD
   "execution_count": 8,
=======
   "execution_count": 14,
>>>>>>> 0f437b4 (Complited Week1 exercises)
   "id": "91abd700",
   "metadata": {},
   "outputs": [
    {
     "name": "stdout",
     "output_type": "stream",
     "text": [
<<<<<<< HEAD
      "My name is Ioan de Montrouge and I am 21 years old. I live at Château de Montrouge, 42600 Savigneux, France, and I am a Baron.\n"
=======
      "My name is Bobby and I am 12 year old. I live on 1 King St and I am a Crypto day trader . My favorite drink is milk\n"
>>>>>>> 0f437b4 (Complited Week1 exercises)
     ]
    }
   ],
   "source": [
<<<<<<< HEAD
    "name = \"Ioan de Montrouge\"\n",
    "address = \"Château de Montrouge, 42600 Savigneux, France\"\n",
    "age = 21\n",
    "occupation = \"Baron\"\n",
    "\n",
    "print(f\"My name is {name} and I am {age} years old. I live at {address}, and I am a {occupation}.\")"
=======
    "name = \"Bobby\"\n",
    "age = 12\n",
    "address = \"1 King St\"\n",
    "occupation = \"Crypto day trader\"\n",
    "drink = \"milk\"\n",
    "\n",
    "print(\"My name is\", name, \"and I am\", age, \"year old.\",\"I live on\", address, \"and I am a\", occupation,\".\",\"My favorite drink is\", drink)"
>>>>>>> 0f437b4 (Complited Week1 exercises)
   ]
  },
  {
   "cell_type": "markdown",
   "id": "9140fc08",
   "metadata": {},
   "source": [
    "#### Extra Exercise 2: Write three variables that represent the salary of three different workers, and print out the average salar"
   ]
  },
  {
   "cell_type": "code",
<<<<<<< HEAD
   "execution_count": 7,
=======
   "execution_count": 23,
   "id": "16233411",
   "metadata": {},
   "outputs": [
    {
     "name": "stdout",
     "output_type": "stream",
     "text": [
      "Average of the list = 26333.33\n"
     ]
    }
   ],
   "source": [
    "# Python program to get average of a list\n",
    "def Average(lst):\n",
    "    return sum(lst) / len(lst)\n",
    " \n",
    "# Driver Code\n",
    "lst = [15000, 9000, 55000]\n",
    "average = Average(lst)\n",
    " \n",
    "# Printing average of the list\n",
    "print(\"Average of the list =\", round(average, 2))"
   ]
  },
  {
   "cell_type": "code",
   "execution_count": null,
>>>>>>> 0f437b4 (Complited Week1 exercises)
   "id": "ca0d2e60",
   "metadata": {},
   "outputs": [
    {
     "name": "stdout",
     "output_type": "stream",
     "text": [
      "The average salary is $75000.0\n"
     ]
    }
   ],
   "source": [
<<<<<<< HEAD
    "s1 = 50000\n",
    "s2 = 75000\n",
    "s3 = 100000\n",
    "\n",
    "print(f\"The average salary is ${(s1+s2+s3)/3}\")"
=======
    " "
>>>>>>> 0f437b4 (Complited Week1 exercises)
   ]
  },
  {
   "cell_type": "code",
   "execution_count": null,
   "id": "a45a32c2",
   "metadata": {},
   "outputs": [],
   "source": []
  }
 ],
 "metadata": {
  "kernelspec": {
   "display_name": "Python 3 (ipykernel)",
   "language": "python",
   "name": "python3"
  },
  "language_info": {
   "codemirror_mode": {
    "name": "ipython",
    "version": 3
   },
   "file_extension": ".py",
   "mimetype": "text/x-python",
   "name": "python",
   "nbconvert_exporter": "python",
   "pygments_lexer": "ipython3",
   "version": "3.10.4"
  }
 },
 "nbformat": 4,
 "nbformat_minor": 5
}
